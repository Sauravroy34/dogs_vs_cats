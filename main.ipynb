{
 "cells": [
  {
   "cell_type": "code",
   "execution_count": 26,
   "metadata": {},
   "outputs": [],
   "source": [
    "import tensorflow as tf\n",
    "from tensorflow.keras import layers,models\n",
    "import os\n",
    "import cv2\n",
    "import numpy as np\n",
    "import matplotlib.pyplot as plt\n",
    "from sklearn.model_selection import train_test_split\n",
    "from sklearn.metrics import mean_absolute_error"
   ]
  },
  {
   "cell_type": "code",
   "execution_count": 27,
   "metadata": {},
   "outputs": [
    {
     "name": "stdout",
     "output_type": "stream",
     "text": [
      "24959\n"
     ]
    }
   ],
   "source": [
    "#path to your image directory \n",
    "path = \"PetImages\"\n",
    "dog_dir = os.path.join(path,\"Dog\")\n",
    "cat_dir = os.path.join(path,\"Cat\")\n",
    "reso = (32,32)\n",
    "dogs = [os.path.join(dog_dir,i) for i in os.listdir(dog_dir) if i.endswith(\".jpg\")]\n",
    "cats = [os.path.join(cat_dir,i) for i in os.listdir(cat_dir) if i.endswith(\"jpg\")]\n",
    "img_list = dogs+cats\n",
    "img_array = []\n",
    "\n",
    "Y_label = []\n",
    "dogs[0]\n",
    "print(len(img_list))"
   ]
  },
  {
   "cell_type": "code",
   "execution_count": 28,
   "metadata": {},
   "outputs": [],
   "source": [
    "def list_img_arr_img(lis_img,arr_img):\n",
    "    for i in lis_img:\n",
    "\n",
    "        ig = cv2.imread(i)\n",
    "\n",
    "        if \"Dog\" in i:\n",
    "            if ig is not None:\n",
    "                img = cv2.resize(ig,(32,32))\n",
    "                img_array = np.array(img)\n",
    "                arr_img.append(img_array)\n",
    "                Y_label.append(1)\n",
    "        elif \"Cat\" in i:\n",
    "            if ig is not None:\n",
    "                img = cv2.resize(ig,(32,32))\n",
    "                img_array = np.array(img)\n",
    "                arr_img.append(img_array)\n",
    "                Y_label.append(0)\n",
    "    return arr_img"
   ]
  },
  {
   "cell_type": "code",
   "execution_count": 29,
   "metadata": {},
   "outputs": [
    {
     "name": "stderr",
     "output_type": "stream",
     "text": [
      "Corrupt JPEG data: 2230 extraneous bytes before marker 0xd9\n",
      "Corrupt JPEG data: 1403 extraneous bytes before marker 0xd9\n",
      "Warning: unknown JFIF revision number 0.00\n",
      "Corrupt JPEG data: 65 extraneous bytes before marker 0xd9\n",
      "Corrupt JPEG data: 399 extraneous bytes before marker 0xd9\n",
      "Corrupt JPEG data: 226 extraneous bytes before marker 0xd9\n",
      "Corrupt JPEG data: 254 extraneous bytes before marker 0xd9\n",
      "Corrupt JPEG data: 162 extraneous bytes before marker 0xd9\n",
      "Corrupt JPEG data: 128 extraneous bytes before marker 0xd9\n",
      "Corrupt JPEG data: 99 extraneous bytes before marker 0xd9\n",
      "Corrupt JPEG data: 1153 extraneous bytes before marker 0xd9\n",
      "Corrupt JPEG data: 239 extraneous bytes before marker 0xd9\n",
      "Corrupt JPEG data: 214 extraneous bytes before marker 0xd9\n"
     ]
    },
    {
     "name": "stdout",
     "output_type": "stream",
     "text": [
      "converted jpg to array\n"
     ]
    }
   ],
   "source": [
    "list_img_arr_img(img_list,img_array)\n",
    "print(\"converted jpg to array\")\n"
   ]
  },
  {
   "cell_type": "code",
   "execution_count": 30,
   "metadata": {},
   "outputs": [
    {
     "data": {
      "text/plain": [
       "array([1, 1, 1, ..., 0, 0, 0])"
      ]
     },
     "execution_count": 30,
     "metadata": {},
     "output_type": "execute_result"
    }
   ],
   "source": [
    "\n",
    "img_array = np.array(img_array)\n",
    "img_array = img_array/255\n",
    "Y_label = np.array(Y_label)\n",
    "Y_label"
   ]
  },
  {
   "cell_type": "code",
   "execution_count": 31,
   "metadata": {},
   "outputs": [
    {
     "name": "stdout",
     "output_type": "stream",
     "text": [
      "24913\n",
      "24913\n"
     ]
    }
   ],
   "source": [
    "#time for convolution\n",
    "X_train, X_val, Y_train, Y_val = train_test_split(img_array,Y_label, test_size=0.2, random_state=1)\n",
    "print(len(img_array))\n",
    "print(len(Y_label))\n"
   ]
  },
  {
   "cell_type": "code",
   "execution_count": 32,
   "metadata": {},
   "outputs": [],
   "source": [
    "cnn = models.Sequential([\n",
    "    #cnn \n",
    "    layers.Conv2D(filters = 32,kernel_size =(3,3),activation=\"relu\",input_shape=(32,32,3)),\n",
    "    layers.MaxPooling2D((2,2)),\n",
    "\n",
    "    layers.Conv2D(filters = 32,kernel_size =(3,3),activation=\"relu\",input_shape=(32,32,3)),\n",
    "    layers.MaxPooling2D((2,2)),\n",
    "\n",
    "    #dense\n",
    "\n",
    "    layers.Flatten(),\n",
    "    layers.Dense(64,activation=\"relu\"),\n",
    "    layers.Dense(2,activation=\"softmax\"),\n",
    "])"
   ]
  },
  {
   "cell_type": "code",
   "execution_count": 33,
   "metadata": {},
   "outputs": [],
   "source": [
    "cnn.compile(optimizer=\"adam\",loss=\"sparse_categorical_crossentropy\",metrics=[\"accuracy\"])"
   ]
  },
  {
   "cell_type": "code",
   "execution_count": 34,
   "metadata": {},
   "outputs": [
    {
     "name": "stdout",
     "output_type": "stream",
     "text": [
      "Epoch 1/10\n",
      "623/623 [==============================] - 8s 11ms/step - loss: 0.6351 - accuracy: 0.6211 - val_loss: 0.5581 - val_accuracy: 0.7200\n",
      "Epoch 2/10\n",
      "623/623 [==============================] - 7s 12ms/step - loss: 0.5413 - accuracy: 0.7252 - val_loss: 0.5488 - val_accuracy: 0.7134\n",
      "Epoch 3/10\n",
      "623/623 [==============================] - 6s 10ms/step - loss: 0.4951 - accuracy: 0.7580 - val_loss: 0.4889 - val_accuracy: 0.7648\n",
      "Epoch 4/10\n",
      "623/623 [==============================] - 6s 10ms/step - loss: 0.4643 - accuracy: 0.7770 - val_loss: 0.4897 - val_accuracy: 0.7642\n",
      "Epoch 5/10\n",
      "623/623 [==============================] - 6s 10ms/step - loss: 0.4357 - accuracy: 0.7931 - val_loss: 0.4729 - val_accuracy: 0.7706\n",
      "Epoch 6/10\n",
      "623/623 [==============================] - 7s 11ms/step - loss: 0.4131 - accuracy: 0.8080 - val_loss: 0.4923 - val_accuracy: 0.7624\n",
      "Epoch 7/10\n",
      "623/623 [==============================] - 7s 11ms/step - loss: 0.3830 - accuracy: 0.8240 - val_loss: 0.5386 - val_accuracy: 0.7477\n",
      "Epoch 8/10\n",
      "623/623 [==============================] - 7s 12ms/step - loss: 0.3571 - accuracy: 0.8407 - val_loss: 0.4739 - val_accuracy: 0.7821\n",
      "Epoch 9/10\n",
      "623/623 [==============================] - 7s 11ms/step - loss: 0.3315 - accuracy: 0.8540 - val_loss: 0.4997 - val_accuracy: 0.7811\n",
      "Epoch 10/10\n",
      "623/623 [==============================] - 7s 11ms/step - loss: 0.3056 - accuracy: 0.8644 - val_loss: 0.5027 - val_accuracy: 0.7875\n"
     ]
    }
   ],
   "source": [
    "history = cnn.fit(X_train,Y_train,epochs=10,validation_data=(X_val,Y_val))"
   ]
  },
  {
   "cell_type": "code",
   "execution_count": 35,
   "metadata": {},
   "outputs": [
    {
     "name": "stdout",
     "output_type": "stream",
     "text": [
      "156/156 - 1s - loss: 0.5027 - accuracy: 0.7875 - 629ms/epoch - 4ms/step\n"
     ]
    },
    {
     "data": {
      "image/png": "[encoded data removed]",
      "text/plain": [
       "<Figure size 640x480 with 1 Axes>"
      ]
     },
     "metadata": {},
     "output_type": "display_data"
    }
   ],
   "source": [
    "plt.plot(history.history['accuracy'], label='accuracy')\n",
    "plt.plot(history.history['val_accuracy'], label = 'val_accuracy')\n",
    "plt.xlabel('Epoch')\n",
    "plt.ylabel('Accuracy')\n",
    "plt.ylim([0.5, 1])\n",
    "plt.legend(loc='lower right')\n",
    "\n",
    "test_loss, test_acc = cnn.evaluate(X_val,Y_val, verbose=2)"
   ]
  },
  {
   "cell_type": "code",
   "execution_count": null,
   "metadata": {},
   "outputs": [],
   "source": []
  }
 ],
 "metadata": {
  "kernelspec": {
   "display_name": "Python 3",
   "language": "python",
   "name": "python3"
  },
  "language_info": {
   "codemirror_mode": {
    "name": "ipython",
    "version": 3
   },
   "file_extension": ".py",
   "mimetype": "text/x-python",
   "name": "python",
   "nbconvert_exporter": "python",
   "pygments_lexer": "ipython3",
   "version": "3.10.12"
  }
 },
 "nbformat": 4,
 "nbformat_minor": 2
}
